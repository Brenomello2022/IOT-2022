{
 "cells": [
  {
   "cell_type": "code",
   "execution_count": null,
   "metadata": {},
   "outputs": [],
   "source": [
    "import RPi.GPIO as gpio\n",
    "import time as delay\n",
    "\n",
    "gpio.setmode(gpio.BOARD)\n",
    "\n",
    "pin_t = 15\n",
    "pin_e = 16\n",
    "\n",
    "gpio.setup(pin_t, gpio.OUT)\n",
    "gpio.setup(pin_e, gpio.IN)\n",
    "\n",
    "def distancia():\n",
    "    gpio.output(pin_t, True)\n",
    "    delay.sleep(0.000001)\n",
    "    gpio.output(pin_t, False)\n",
    "    tempo_i = delay.time()\n",
    "    tempo_f = delay.time()\n",
    "    \n",
    "    while gpio.input(pin_e) == False:\n",
    "        tempo_i = delay.time()\n",
    "    while gpio.input(pin_e) == True:\n",
    "        tempo_f = delay.time()\n",
    "        \n",
    "    tempo_d = tempo_f - tempo_i\n",
    "    distancia = (tempo_d*34300)/2\n",
    "    return distancia\n",
    "\n",
    "while True:\n",
    "    print('Distancia: %.1f' %distancia(), 'cm')\n",
    "    delay.sleep(5)"
   ]
  }
 ],
 "metadata": {
  "language_info": {
   "name": "python"
  },
  "orig_nbformat": 4
 },
 "nbformat": 4,
 "nbformat_minor": 2
}

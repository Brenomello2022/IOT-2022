{
 "cells": [
  {
   "cell_type": "code",
   "execution_count": null,
   "metadata": {},
   "outputs": [],
   "source": [
    "import RPi.GPIO as gpio\n",
    "import time as delay\n",
    "\n",
    "gpio.setmode(gpio.BOARD)\n",
    "\n",
    "ledvermelho, ledverde, botao = 11, 12, 18\n",
    "contador = 0\n",
    "\n",
    "gpio.setup(ledvermelho, gpio.OUT)\n",
    "gpio.setup(ledverde, gpio.OUT)\n",
    "gpio.setup(botao, gpio.IN)\n",
    "\n",
    "gpio.output(ledvermelho, False)\n",
    "gpio.output(ledverde, False)\n",
    "\n",
    "contador = 0\n",
    "\n",
    "def piscaled():\n",
    "    gpio.output(ledvermelho, True)\n",
    "    gpio.output(ledverde, True)\n",
    "    delay.sleep(0.5)\n",
    "    gpio.output(ledvermelho, False)\n",
    "    gpio.output(ledverde, False)\n",
    "    delay.sleep(0.5)\n",
    "while True:\n",
    "    if gpio.input(botao) == True:\n",
    "        contador = contador + 1\n",
    "        delay.sleep(0.5)\n",
    "        print('Clique número '+str(contador))\n",
    "        \n",
    "        if(contador == 6):\n",
    "            print('Sexto clique no botão, reiniciaremos o processo')\n",
    "            contador = 0\n",
    "        i = 0\n",
    "        while i < contador:\n",
    "            piscaled()\n",
    "            i = i + 1"
   ]
  }
 ],
 "metadata": {
  "language_info": {
   "name": "python"
  },
  "orig_nbformat": 4
 },
 "nbformat": 4,
 "nbformat_minor": 2
}

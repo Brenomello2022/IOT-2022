{
 "cells": [
  {
   "cell_type": "code",
   "execution_count": null,
   "metadata": {},
   "outputs": [],
   "source": [
    "import RPi.GPIO as gpio\n",
    "import os\n",
    "import time as delay\n",
    "from urllib.request import urlopen\n",
    "import requests\n",
    "\n",
    "gpio.setmode(gpio.BOARD)\n",
    "\n",
    "ledvermelho, ledverde = 11, 12\n",
    "contador = 0\n",
    "\n",
    "gpio.setup(ledvermelho, gpio.OUT)\n",
    "gpio.setup(ledverde, gpio.OUT)\n",
    "\n",
    "gpio.output(ledvermelho, False)\n",
    "gpio.output(ledverde, False)\n",
    "\n",
    "while True:\n",
    "    consulta1 = requests.get('')\n",
    "    consulta2 = requests.get('')\n",
    "    consulta3 = requests.get('')\n",
    "    consulta4 = requests.get('')\n",
    "    print('Temperatura '+consulta1.text)\n",
    "    print('Umidade '+consulta2.text)\n",
    "    print('Distancia '+consulta3.text)\n",
    "    print('Ocupação '+consulta4.text)\n",
    "    delay.sleep(30)"
   ]
  }
 ],
 "metadata": {
  "language_info": {
   "name": "python"
  },
  "orig_nbformat": 4
 },
 "nbformat": 4,
 "nbformat_minor": 2
}

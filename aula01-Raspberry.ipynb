{
 "cells": [
  {
   "cell_type": "code",
   "execution_count": null,
   "metadata": {},
   "outputs": [],
   "source": [
    "import RPi.GPIO as gpio\n",
    "import time as delay\n",
    "\n",
    "gpio.setmode(gpio.BOARD)\n",
    "\n",
    "ledvermelho = 11\n",
    "ledverde = 12\n",
    "\n",
    "gpio.setup(ledvermelho, gpio.OUT)\n",
    "gpio.setup(ledverde, gpio.OUT)\n",
    "\n",
    "while True: \n",
    "    gpio.output(ledvermelho, True)\n",
    "    print('LED vermelho ON')\n",
    "    delay.sleep(1)\n",
    "    gpio.output(ledvermelho, False)\n",
    "    delay.sleep(1)\n",
    "    \n",
    "    gpio.output(ledverde, True)\n",
    "    print('LED Verde ON')\n",
    "    delay.sleep(1)\n",
    "    gpio.output(ledverde, False)\n",
    "    delay.sleep(1)"
   ]
  }
 ],
 "metadata": {
  "language_info": {
   "name": "python"
  },
  "orig_nbformat": 4
 },
 "nbformat": 4,
 "nbformat_minor": 2
}

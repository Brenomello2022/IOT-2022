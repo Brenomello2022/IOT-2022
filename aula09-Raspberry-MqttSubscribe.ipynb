{
 "cells": [
  {
   "cell_type": "code",
   "execution_count": null,
   "metadata": {},
   "outputs": [],
   "source": [
    "import paho.mqtt.clientas mqtt\n",
    "import time as delay\n",
    "\n",
    "mqtt_msg = ''\n",
    "\n",
    "client = mqtt.Client('')\n",
    "client.connect('')\n",
    "\n",
    "def grupos(client, userdata, flags, rc):\n",
    "    print('Conectado com codigo: ',str(rc))\n",
    "    client.subscribe('')\n",
    "\n",
    "def mensagens (client, userdata, msg):\n",
    "    global mqtt_msg\n",
    "    if msg.topic == '':\n",
    "\tmqtt_msg = str(msg.payload.decode('utf-8'))\n",
    "\tprint(msg.topic+ '  '+mqtt_msg)\n",
    "\n",
    "client.on_connect = grupos\n",
    "client.on_message = mensagens\n",
    "\n",
    "client.loop_forever()\n",
    "client.disconnect()\n",
    "\n"
   ]
  }
 ],
 "metadata": {
  "language_info": {
   "name": "python"
  },
  "orig_nbformat": 4
 },
 "nbformat": 4,
 "nbformat_minor": 2
}

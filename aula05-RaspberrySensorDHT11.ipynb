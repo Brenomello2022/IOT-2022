{
 "cells": [
  {
   "cell_type": "code",
   "execution_count": null,
   "metadata": {},
   "outputs": [],
   "source": [
    "import RPi.GPIO as gpio\n",
    "import time as delay\n",
    "import Adafruit_DHT as dht\n",
    "import os\n",
    "\n",
    "gpio.setmode(gpio.BOARD)\n",
    "\n",
    "pin_sensor = 4\n",
    "\n",
    "dht_sensor = dht.DHT11\n",
    "\n",
    "f = open('/home/pi/notebooks/dht11.txt', 'a+')\n",
    "f.write('Data        Hora       Temperatura       Humidade\\n')\n",
    "f.close()\n",
    "\n",
    "while True:\n",
    "    umid, temp = dht.read(dht_sensor, pin_sensor)\n",
    "    \n",
    "    if umid is not None and temp is not None:\n",
    "        f = open('/home/pi/notebooks/dht11.txt', 'a+')   \n",
    "        f.write('{0}       {1}       Temperatura: {2:0.1f}°c Umidade: {3:.0.1f}\\n%'.format(delay.strftime('%m/%d/%y'), \n",
    "        delay.strftime('%H:%M'), temp, umid))\n",
    "        f.close() \n",
    "        print('Temperatura: {0:0.1f}°c Umidade: {1:.0.1f}\\n%'.format(temp, umid))\n",
    "    else:\n",
    "        f = open('/home/pi/notebooks/dht11.txt', 'a+')\n",
    "        f.write('{0}       {1}       Falha ao ler os dados do sensor\\n'.format(delay.strftime('%m/%d/%y'), \n",
    "        delay.strftime('%H:%M'), temp, umid))\n",
    "        print('Falha na leitura')\n",
    "    delay.sleep(4)"
   ]
  }
 ],
 "metadata": {
  "language_info": {
   "name": "python"
  },
  "orig_nbformat": 4
 },
 "nbformat": 4,
 "nbformat_minor": 2
}

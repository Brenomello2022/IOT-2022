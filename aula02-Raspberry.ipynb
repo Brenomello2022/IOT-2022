{
 "cells": [
  {
   "cell_type": "code",
   "execution_count": null,
   "metadata": {},
   "outputs": [],
   "source": [
    "import RPi.GPIO as gpio\n",
    "import time as delay\n",
    "from urllib.request import urlopen\n",
    "\n",
    "gpio.setmode(gpio.BOARD)\n",
    "\n",
    "ledvermelho = 11\n",
    "ledverde = 12\n",
    "\n",
    "gpio.setup(ledvermelho, gpio.OUT)\n",
    "gpio.setup(ledverde, gpio.OUT)\n",
    "\n",
    "gpio.output(ledvermelho, False)\n",
    "gpio.output(ledverde, False)\n",
    "\n",
    "def testaconexao():\n",
    "    try:\n",
    "        urlopen('https://materdei.edu.br', timeout=1)\n",
    "        return True\n",
    "    except:\n",
    "        return False\n",
    "    \n",
    "if (testaconexao() == True):\n",
    "    gpio.output(ledverde, True)\n",
    "    delay.sleep(0.5)\n",
    "    gpio.output(ledverde, False)\n",
    "    delay.sleep(0.5)\n",
    "    gpio.output(ledverde, True)\n",
    "    delay.sleep(0.5)\n",
    "    gpio.output(ledverde, False)\n",
    "    delay.sleep(0.5)\n",
    "    gpio.output(ledverde, True)\n",
    "    delay.sleep(0.5)\n",
    "    gpio.output(ledverde, False)\n",
    "    delay.sleep(0.5)"
   ]
  }
 ],
 "metadata": {
  "language_info": {
   "name": "python"
  },
  "orig_nbformat": 4
 },
 "nbformat": 4,
 "nbformat_minor": 2
}

{
 "cells": [
  {
   "cell_type": "code",
   "execution_count": null,
   "metadata": {},
   "outputs": [],
   "source": [
    "import paho.mqtt.clientas mqtt\n",
    "import time as delay\n",
    "\n",
    "client = mqtt.Client('')\n",
    "client.connect('') \n",
    "while True:\n",
    "    try:\n",
    "\tclient.publish('', 'Ola Mundo')\n",
    "\tprint('Dados publicados em: ', delay.strftime('%d/%m/%y'),' às ',delay.strftime('%H:%M'))\n",
    "    except: Exception as e\n",
    "\tclient.loop_stop()\n",
    "\tclient.disconnect()\n",
    "\tprint(e)\n",
    "\n",
    "    delay.sleep(20)"
   ]
  }
 ],
 "metadata": {
  "language_info": {
   "name": "python"
  },
  "orig_nbformat": 4
 },
 "nbformat": 4,
 "nbformat_minor": 2
}

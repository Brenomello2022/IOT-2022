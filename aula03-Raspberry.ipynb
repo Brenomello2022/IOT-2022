{
 "cells": [
  {
   "cell_type": "code",
   "execution_count": null,
   "metadata": {},
   "outputs": [],
   "source": [
    "import RPi.GPIO as gpio\n",
    "import time as delay\n",
    "\n",
    "gpio.setmode(gpio.BOARD)\n",
    "\n",
    "ledvermelho, ledverde, botao = 11, 12, 18\n",
    "\n",
    "gpio.setup(ledvermelho, gpio.OUT)\n",
    "gpio.setup(ledverde, gpio.OUT)\n",
    "gpio.setup(botao, gpio.IN)\n",
    "\n",
    "gpio.output(ledvermelho, False)\n",
    "gpio.output(ledverde, False)\n",
    "\n",
    "contador = 0\n",
    "\n",
    "while True:\n",
    "    if gpio.input(botao) == True:\n",
    "        contador = contador + 1\n",
    "        delay.sleep(0.5)\n",
    "        print('Clique número: '+str(contador))\n",
    "        \n",
    "    if (contador == 1):\n",
    "        gpio.output(ledvermelho, True)\n",
    "        \n",
    "\n",
    "    if (contador == 2):\n",
    "        gpio.output(ledvermelho, False)\n",
    "        contador = 0\n",
    "        \n",
    "gpio.setwarnings(False)"
   ]
  }
 ],
 "metadata": {
  "language_info": {
   "name": "python"
  },
  "orig_nbformat": 4
 },
 "nbformat": 4,
 "nbformat_minor": 2
}
